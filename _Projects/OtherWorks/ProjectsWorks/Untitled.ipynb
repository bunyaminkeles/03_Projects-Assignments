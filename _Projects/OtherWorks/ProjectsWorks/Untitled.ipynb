{
 "cells": [
  {
   "cell_type": "code",
   "execution_count": 5,
   "id": "71e8c71f-2f64-4781-a861-d98c8752cdb8",
   "metadata": {},
   "outputs": [],
   "source": [
    "import pandas_profiling as pp"
   ]
  },
  {
   "cell_type": "code",
   "execution_count": 11,
   "id": "417f35c1-55fa-4554-a8b9-693f8ec33849",
   "metadata": {},
   "outputs": [
    {
     "name": "stderr",
     "output_type": "stream",
     "text": [
      "Traceback (most recent call last):\n",
      "  File \"C:\\Users\\bunya\\anaconda3\\Scripts\\pip3-script.py\", line 6, in <module>\n",
      "    from pip._internal.cli.main import main\n",
      "  File \"C:\\Users\\bunya\\anaconda3\\lib\\site-packages\\pip\\_internal\\cli\\main.py\", line 8, in <module>\n",
      "    from pip._internal.cli.autocompletion import autocomplete\n",
      "  File \"C:\\Users\\bunya\\anaconda3\\lib\\site-packages\\pip\\_internal\\cli\\autocompletion.py\", line 9, in <module>\n",
      "    from pip._internal.cli.main_parser import create_main_parser\n",
      "  File \"C:\\Users\\bunya\\anaconda3\\lib\\site-packages\\pip\\_internal\\cli\\main_parser.py\", line 7, in <module>\n",
      "    from pip._internal.cli import cmdoptions\n",
      "  File \"C:\\Users\\bunya\\anaconda3\\lib\\site-packages\\pip\\_internal\\cli\\cmdoptions.py\", line 22, in <module>\n",
      "    from pip._internal.cli.progress_bars import BAR_TYPES\n",
      "  File \"C:\\Users\\bunya\\anaconda3\\lib\\site-packages\\pip\\_internal\\cli\\progress_bars.py\", line 9, in <module>\n",
      "    from pip._internal.utils.logging import get_indentation\n",
      "  File \"C:\\Users\\bunya\\anaconda3\\lib\\site-packages\\pip\\_internal\\utils\\logging.py\", line 14, in <module>\n",
      "    from pip._internal.utils.misc import ensure_dir\n",
      "  File \"C:\\Users\\bunya\\anaconda3\\lib\\site-packages\\pip\\_internal\\utils\\misc.py\", line 29, in <module>\n",
      "    from pip._internal.locations import get_major_minor_version, site_packages, user_site\n",
      "  File \"C:\\Users\\bunya\\anaconda3\\lib\\site-packages\\pip\\_internal\\locations\\__init__.py\", line 14, in <module>\n",
      "    from . import _distutils, _sysconfig\n",
      "  File \"C:\\Users\\bunya\\anaconda3\\lib\\site-packages\\pip\\_internal\\locations\\_sysconfig.py\", line 8, in <module>\n",
      "    from pip._internal.exceptions import InvalidSchemeCombination, UserInstallationInvalid\n",
      "ImportError: cannot import name 'InvalidSchemeCombination' from 'pip._internal.exceptions' (C:\\Users\\bunya\\anaconda3\\lib\\site-packages\\pip\\_internal\\exceptions.py)\n"
     ]
    }
   ],
   "source": [
    "!pip3 install jupyterlab_tabnine --user"
   ]
  },
  {
   "cell_type": "code",
   "execution_count": null,
   "id": "70a283ec-30c1-49e7-a2ca-0cb4648aa8fe",
   "metadata": {},
   "outputs": [],
   "source": []
  }
 ],
 "metadata": {
  "kernelspec": {
   "display_name": "Python 3",
   "language": "python",
   "name": "python3"
  },
  "language_info": {
   "codemirror_mode": {
    "name": "ipython",
    "version": 3
   },
   "file_extension": ".py",
   "mimetype": "text/x-python",
   "name": "python",
   "nbconvert_exporter": "python",
   "pygments_lexer": "ipython3",
   "version": "3.8.8"
  }
 },
 "nbformat": 4,
 "nbformat_minor": 5
}
